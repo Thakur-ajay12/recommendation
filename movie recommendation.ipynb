{
 "cells": [
  {
   "cell_type": "markdown",
   "metadata": {},
   "source": [
    "##### youtube:: https://www.youtube.com/watch?v=XoTwndOgXBM&t=2900s checkout this link \n",
    "##### github:: https://github.com/codeheroku/Introduction-to-Machine-Learning/tree/master/Building%20a%20Movie%20Recommendation%20Engine/.ipynb_checkpoints"
   ]
  },
  {
   "cell_type": "code",
   "execution_count": 1,
   "metadata": {},
   "outputs": [],
   "source": [
    "import pandas as pd \n",
    "import numpy as np\n",
    "from sklearn.feature_extraction.text import CountVectorizer\n",
    "from sklearn.metrics.pairwise import cosine_similarity"
   ]
  },
  {
   "cell_type": "code",
   "execution_count": 2,
   "metadata": {},
   "outputs": [
    {
     "data": {
      "text/plain": [
       "[(0, 'good boy good '), (1, 'good girl boy')]"
      ]
     },
     "execution_count": 2,
     "metadata": {},
     "output_type": "execute_result"
    }
   ],
   "source": [
    "text= ['good boy good ', 'good girl boy']\n",
    "list(enumerate(text))"
   ]
  },
  {
   "cell_type": "code",
   "execution_count": 3,
   "metadata": {},
   "outputs": [],
   "source": [
    "cv=CountVectorizer()"
   ]
  },
  {
   "cell_type": "code",
   "execution_count": 4,
   "metadata": {},
   "outputs": [
    {
     "name": "stdout",
     "output_type": "stream",
     "text": [
      "[[1 0 2]\n",
      " [1 1 1]]\n"
     ]
    }
   ],
   "source": [
    "matrix=cv.fit_transform(text)\n",
    "print(matrix.toarray())"
   ]
  },
  {
   "cell_type": "code",
   "execution_count": 5,
   "metadata": {},
   "outputs": [],
   "source": [
    "## find the cosine similarity "
   ]
  },
  {
   "cell_type": "code",
   "execution_count": 6,
   "metadata": {},
   "outputs": [
    {
     "name": "stdout",
     "output_type": "stream",
     "text": [
      "[[1.         0.77459667]\n",
      " [0.77459667 1.        ]]\n"
     ]
    }
   ],
   "source": [
    "score=cosine_similarity(matrix)\n",
    "print(score)"
   ]
  },
  {
   "cell_type": "markdown",
   "metadata": {},
   "source": [
    "## now apply it on real data "
   ]
  },
  {
   "cell_type": "code",
   "execution_count": 7,
   "metadata": {},
   "outputs": [
    {
     "data": {
      "text/html": [
       "<div>\n",
       "<style scoped>\n",
       "    .dataframe tbody tr th:only-of-type {\n",
       "        vertical-align: middle;\n",
       "    }\n",
       "\n",
       "    .dataframe tbody tr th {\n",
       "        vertical-align: top;\n",
       "    }\n",
       "\n",
       "    .dataframe thead th {\n",
       "        text-align: right;\n",
       "    }\n",
       "</style>\n",
       "<table border=\"1\" class=\"dataframe\">\n",
       "  <thead>\n",
       "    <tr style=\"text-align: right;\">\n",
       "      <th></th>\n",
       "      <th>Unnamed: 0</th>\n",
       "      <th>Unnamed: 0.1</th>\n",
       "      <th>director_name</th>\n",
       "      <th>actor_1_name</th>\n",
       "      <th>actor_2_name</th>\n",
       "      <th>actor_3_name</th>\n",
       "      <th>genres</th>\n",
       "      <th>movie_title</th>\n",
       "      <th>comb</th>\n",
       "    </tr>\n",
       "  </thead>\n",
       "  <tbody>\n",
       "    <tr>\n",
       "      <th>0</th>\n",
       "      <td>0</td>\n",
       "      <td>0.0</td>\n",
       "      <td>James Cameron</td>\n",
       "      <td>CCH Pounder</td>\n",
       "      <td>Joel David Moore</td>\n",
       "      <td>Wes Studi</td>\n",
       "      <td>Action Adventure Fantasy Sci-Fi</td>\n",
       "      <td>avatar</td>\n",
       "      <td>CCH Pounder Joel David Moore Wes Studi James C...</td>\n",
       "    </tr>\n",
       "    <tr>\n",
       "      <th>1</th>\n",
       "      <td>1</td>\n",
       "      <td>1.0</td>\n",
       "      <td>Gore Verbinski</td>\n",
       "      <td>Johnny Depp</td>\n",
       "      <td>Orlando Bloom</td>\n",
       "      <td>Jack Davenport</td>\n",
       "      <td>Action Adventure Fantasy</td>\n",
       "      <td>pirates of the caribbean: at world's end</td>\n",
       "      <td>Johnny Depp Orlando Bloom Jack Davenport Gore ...</td>\n",
       "    </tr>\n",
       "    <tr>\n",
       "      <th>2</th>\n",
       "      <td>2</td>\n",
       "      <td>2.0</td>\n",
       "      <td>Sam Mendes</td>\n",
       "      <td>Christoph Waltz</td>\n",
       "      <td>Rory Kinnear</td>\n",
       "      <td>Stephanie Sigman</td>\n",
       "      <td>Action Adventure Thriller</td>\n",
       "      <td>spectre</td>\n",
       "      <td>Christoph Waltz Rory Kinnear Stephanie Sigman ...</td>\n",
       "    </tr>\n",
       "    <tr>\n",
       "      <th>3</th>\n",
       "      <td>3</td>\n",
       "      <td>3.0</td>\n",
       "      <td>Christopher Nolan</td>\n",
       "      <td>Tom Hardy</td>\n",
       "      <td>Christian Bale</td>\n",
       "      <td>Joseph Gordon-Levitt</td>\n",
       "      <td>Action Thriller</td>\n",
       "      <td>the dark knight rises</td>\n",
       "      <td>Tom Hardy Christian Bale Joseph Gordon-Levitt ...</td>\n",
       "    </tr>\n",
       "    <tr>\n",
       "      <th>4</th>\n",
       "      <td>4</td>\n",
       "      <td>4.0</td>\n",
       "      <td>Doug Walker</td>\n",
       "      <td>Doug Walker</td>\n",
       "      <td>Rob Walker</td>\n",
       "      <td>unknown</td>\n",
       "      <td>Documentary</td>\n",
       "      <td>star wars: episode vii - the force awakens    ...</td>\n",
       "      <td>Doug Walker Rob Walker unknown Doug Walker Doc...</td>\n",
       "    </tr>\n",
       "  </tbody>\n",
       "</table>\n",
       "</div>"
      ],
      "text/plain": [
       "   Unnamed: 0  Unnamed: 0.1      director_name     actor_1_name  \\\n",
       "0           0           0.0      James Cameron      CCH Pounder   \n",
       "1           1           1.0     Gore Verbinski      Johnny Depp   \n",
       "2           2           2.0         Sam Mendes  Christoph Waltz   \n",
       "3           3           3.0  Christopher Nolan        Tom Hardy   \n",
       "4           4           4.0        Doug Walker      Doug Walker   \n",
       "\n",
       "       actor_2_name          actor_3_name                           genres  \\\n",
       "0  Joel David Moore             Wes Studi  Action Adventure Fantasy Sci-Fi   \n",
       "1     Orlando Bloom        Jack Davenport         Action Adventure Fantasy   \n",
       "2      Rory Kinnear      Stephanie Sigman        Action Adventure Thriller   \n",
       "3    Christian Bale  Joseph Gordon-Levitt                  Action Thriller   \n",
       "4        Rob Walker               unknown                      Documentary   \n",
       "\n",
       "                                         movie_title  \\\n",
       "0                                            avatar    \n",
       "1          pirates of the caribbean: at world's end    \n",
       "2                                           spectre    \n",
       "3                             the dark knight rises    \n",
       "4  star wars: episode vii - the force awakens    ...   \n",
       "\n",
       "                                                comb  \n",
       "0  CCH Pounder Joel David Moore Wes Studi James C...  \n",
       "1  Johnny Depp Orlando Bloom Jack Davenport Gore ...  \n",
       "2  Christoph Waltz Rory Kinnear Stephanie Sigman ...  \n",
       "3  Tom Hardy Christian Bale Joseph Gordon-Levitt ...  \n",
       "4  Doug Walker Rob Walker unknown Doug Walker Doc...  "
      ]
     },
     "execution_count": 7,
     "metadata": {},
     "output_type": "execute_result"
    }
   ],
   "source": [
    "df=pd.read_csv('new_data.csv')\n",
    "df.head()\n",
    "#df.isnull().sum()"
   ]
  },
  {
   "cell_type": "code",
   "execution_count": 8,
   "metadata": {},
   "outputs": [],
   "source": [
    "df=df.loc[:150,['director_name', 'actor_1_name', 'actor_2_name', 'actor_3_name',\n",
    "       'genres', 'movie_title', 'comb']]\n"
   ]
  },
  {
   "cell_type": "code",
   "execution_count": 9,
   "metadata": {},
   "outputs": [
    {
     "name": "stdout",
     "output_type": "stream",
     "text": [
      "[[0 0 0 ... 0 0 0]\n",
      " [0 0 0 ... 0 0 0]\n",
      " [0 0 0 ... 0 0 0]\n",
      " ...\n",
      " [0 0 0 ... 0 0 0]\n",
      " [0 0 0 ... 0 0 0]\n",
      " [0 0 0 ... 0 0 0]]\n"
     ]
    }
   ],
   "source": [
    "count_matrix=cv.fit_transform(df['comb'])\n",
    "print(count_matrix.toarray())"
   ]
  },
  {
   "cell_type": "code",
   "execution_count": 10,
   "metadata": {},
   "outputs": [
    {
     "name": "stdout",
     "output_type": "stream",
     "text": [
      "[[1.         0.24174689 0.16116459 ... 0.29649973 0.22237479 0.0805823 ]\n",
      " [0.24174689 1.         0.18181818 ... 0.1672484  0.0836242  0.09090909]\n",
      " [0.16116459 0.18181818 1.         ... 0.3344968  0.0836242  0.18181818]\n",
      " ...\n",
      " [0.29649973 0.1672484  0.3344968  ... 1.         0.23076923 0.2508726 ]\n",
      " [0.22237479 0.0836242  0.0836242  ... 0.23076923 1.         0.0836242 ]\n",
      " [0.0805823  0.09090909 0.18181818 ... 0.2508726  0.0836242  1.        ]]\n"
     ]
    }
   ],
   "source": [
    "sim_score=cosine_similarity(count_matrix)\n",
    "print(sim_score)"
   ]
  },
  {
   "cell_type": "code",
   "execution_count": 11,
   "metadata": {},
   "outputs": [],
   "source": [
    "## if i give index i will get title \n",
    "## elseif i give title will get index"
   ]
  },
  {
   "cell_type": "code",
   "execution_count": 12,
   "metadata": {},
   "outputs": [],
   "source": [
    "def get_title_from_index(i):\n",
    "    return df[df.index == i][\"movie_title\"].values[0]\n",
    "def get_index_from_title(t):\n",
    "    return df[df['movie_title'] == t].index.values[0]"
   ]
  },
  {
   "cell_type": "code",
   "execution_count": 13,
   "metadata": {},
   "outputs": [],
   "source": [
    "#df['movie_title'].apply(get_index_from_title)\n"
   ]
  },
  {
   "cell_type": "code",
   "execution_count": 14,
   "metadata": {},
   "outputs": [
    {
     "data": {
      "text/plain": [
       "\"pirates of the caribbean: at world's end\\xa0\""
      ]
     },
     "execution_count": 14,
     "metadata": {},
     "output_type": "execute_result"
    }
   ],
   "source": [
    "movie_user_likes = \"x-men: the last stand\\xa0\"\n",
    "movie_index= get_index_from_title(movie_user_likes)\n",
    "get_title_from_index(1)"
   ]
  },
  {
   "cell_type": "code",
   "execution_count": 15,
   "metadata": {},
   "outputs": [],
   "source": [
    "## enumerate return values in tuple with index,values"
   ]
  },
  {
   "cell_type": "code",
   "execution_count": 16,
   "metadata": {},
   "outputs": [],
   "source": [
    "similar_movies=list(enumerate(sim_score[movie_index]))\n",
    "## similar_movies"
   ]
  },
  {
   "cell_type": "code",
   "execution_count": 17,
   "metadata": {},
   "outputs": [],
   "source": [
    "sorted_similar_movies = sorted(similar_movies,key=lambda x:x[1],reverse=True)\n",
    "## print(sorted_similar_movies)"
   ]
  },
  {
   "cell_type": "code",
   "execution_count": 18,
   "metadata": {},
   "outputs": [],
   "source": [
    "## now get the movie name from index by using upper fuction "
   ]
  },
  {
   "cell_type": "code",
   "execution_count": 19,
   "metadata": {
    "collapsed": true
   },
   "outputs": [
    {
     "name": "stdout",
     "output_type": "stream",
     "text": [
      "x-men: the last stand \n",
      "x-men: days of future past \n",
      "x-men origins: wolverine \n",
      "transformers: age of extinction \n",
      "the amazing spider-man 2 \n",
      "man of steel \n",
      "battleship \n",
      "star trek beyond \n",
      "waterworld \n",
      "mad max: fury road \n",
      "armageddon \n",
      "stealth \n",
      "avatar \n",
      "jurassic world \n",
      "world war z \n",
      "g.i. joe: the rise of cobra \n",
      "inception \n",
      "men in black 3 \n",
      "men in black ii \n",
      "big hero 6 \n",
      "g-force \n",
      "terminator salvation \n",
      "star trek into darkness \n",
      "terminator genisys \n",
      "the matrix reloaded \n",
      "star trek \n",
      "john carter \n",
      "batman v superman: dawn of justice \n",
      "superman returns \n",
      "transformers: revenge of the fallen \n",
      "green lantern \n",
      "transformers: dark of the moon \n",
      "rush hour 3 \n",
      "2012 \n",
      "jupiter ascending \n",
      "x-men: apocalypse \n",
      "edge of tomorrow \n",
      "captain america: the winter soldier \n",
      "independence day: resurgence \n",
      "guardians of the galaxy \n",
      "x-men: first class \n",
      "rise of the guardians \n",
      "avengers: age of ultron \n",
      "captain america: civil war \n",
      "iron man 3 \n",
      "the mummy: tomb of the dragon emperor \n",
      "suicide squad \n",
      "dawn of the planet of the apes \n",
      "tomorrowland \n",
      "transformers \n",
      "pacific rim \n",
      "monsters vs. aliens \n",
      "mars needs moms \n",
      "iron man \n",
      "iron man 2 \n",
      "terminator 3: rise of the machines \n",
      "pirates of the caribbean: at world's end \n",
      "spectre \n",
      "pirates of the caribbean: dead man's chest \n",
      "pirates of the caribbean: on stranger tides \n",
      "the amazing spider-man \n",
      "spider-man 2 \n",
      "indiana jones and the kingdom of the crystal skull \n",
      "warcraft \n",
      "the matrix revolutions \n",
      "thor: the dark world \n",
      "thor \n",
      "wrath of the titans \n",
      "mission: impossible - rogue nation \n",
      "mission: impossible iii \n",
      "die another day \n",
      "mission: impossible - ghost protocol \n",
      "spider-man \n",
      "gods of egypt \n",
      "harry potter and the half-blood prince \n",
      "the chronicles of narnia: prince caspian \n",
      "prince of persia: the sands of time \n",
      "snow white and the huntsman \n",
      "interstellar \n",
      "poseidon \n",
      "harry potter and the order of the phoenix \n",
      "harry potter and the goblet of fire \n",
      "the last airbender \n",
      "beowulf \n",
      "wall·e \n",
      "wild wild west \n",
      "47 ronin \n",
      "the sorcerer's apprentice \n",
      "watchmen \n",
      "maleficent \n",
      "the hunger games: mockingjay - part 2 \n",
      "flushed away \n",
      "mr. peabody & sherman \n",
      "how to train your dragon 2 \n",
      "wreck-it ralph \n",
      "quantum of solace \n",
      "the hobbit: the battle of the five armies \n",
      "the hobbit: the desolation of smaug \n",
      "jack the giant slayer \n",
      "the hobbit: an unexpected journey \n",
      "batman begins \n",
      "the dark knight rises \n",
      "the lone ranger \n",
      "furious 7 \n",
      "the chronicles of narnia: the lion, the witch and the wardrobe \n",
      "alice through the looking glass \n",
      "the chronicles of narnia: the voyage of the dawn treader \n",
      "white house down \n",
      "lethal weapon 4 \n",
      "the golden compass \n",
      "the dark knight \n",
      "the polar express \n",
      "how to train your dragon \n",
      "charlie and the chocolate factory \n",
      "night at the museum: battle of the smithsonian \n",
      "the wolfman \n",
      "the legend of tarzan \n",
      "monsters university \n",
      "toy story 3 \n",
      "brave \n",
      "shrek the third \n",
      "kung fu panda 3 \n",
      "tangled \n",
      "robin hood \n",
      "inside out \n",
      "shrek forever after \n",
      "i am legend \n",
      "frozen \n",
      "madagascar: escape 2 africa \n",
      "kung fu panda 2 \n",
      "the good dinosaur \n",
      "alexander \n",
      "troy \n",
      "hancock \n",
      "evan almighty \n",
      "the curious case of benjamin button \n",
      "angels & demons \n",
      "a christmas carol \n",
      "up \n",
      "pearl harbor \n",
      "ratatouille \n",
      "dark shadows \n",
      "bee movie \n",
      "the last samurai \n",
      "cars 2 \n",
      "hugo \n",
      "bolt \n",
      "madagascar 3: europe's most wanted \n",
      "star wars: episode vii - the force awakens             \n",
      "titanic \n",
      "fun with dick and jane \n"
     ]
    }
   ],
   "source": [
    "for i in sorted_similar_movies:\n",
    "    print(get_title_from_index(i[0]))"
   ]
  },
  {
   "cell_type": "markdown",
   "metadata": {},
   "source": [
    "model is working pretty good "
   ]
  },
  {
   "cell_type": "code",
   "execution_count": null,
   "metadata": {},
   "outputs": [],
   "source": []
  }
 ],
 "metadata": {
  "kernelspec": {
   "display_name": "Python 3",
   "language": "python",
   "name": "python3"
  },
  "language_info": {
   "codemirror_mode": {
    "name": "ipython",
    "version": 3
   },
   "file_extension": ".py",
   "mimetype": "text/x-python",
   "name": "python",
   "nbconvert_exporter": "python",
   "pygments_lexer": "ipython3",
   "version": "3.8.5"
  }
 },
 "nbformat": 4,
 "nbformat_minor": 4
}
